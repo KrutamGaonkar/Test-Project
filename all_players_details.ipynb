{
 "cells": [
  {
   "cell_type": "code",
   "execution_count": 5,
   "metadata": {},
   "outputs": [],
   "source": [
    "import requests\n",
    "import pandas as pd"
   ]
  },
  {
   "cell_type": "code",
   "execution_count": 6,
   "metadata": {},
   "outputs": [],
   "source": [
    "url = \"https://unofficial-cricbuzz.p.rapidapi.com/players/search\"\n",
    "\n",
    "querystring = {\"plrN\":\"*\"}\n",
    "\n",
    "headers = {\n",
    "\t\"X-RapidAPI-Key\": \"7342f3af94msh458c6999db3a295p1672a0jsn1d4f7254e3ca\",\n",
    "\t\"X-RapidAPI-Host\": \"unofficial-cricbuzz.p.rapidapi.com\"\n",
    "}\n",
    "\n",
    "response = requests.get(url, headers=headers, params=querystring)"
   ]
  },
  {
   "cell_type": "code",
   "execution_count": 7,
   "metadata": {},
   "outputs": [],
   "source": [
    "json = response.json()\n",
    "df = pd.DataFrame(json)\n",
    "all_players_details = pd.concat([df.drop([\"player\"], axis=1), pd.json_normalize(df[\"player\"])], axis=1)"
   ]
  },
  {
   "cell_type": "code",
   "execution_count": 8,
   "metadata": {},
   "outputs": [
    {
     "data": {
      "text/html": [
       "<div>\n",
       "<style scoped>\n",
       "    .dataframe tbody tr th:only-of-type {\n",
       "        vertical-align: middle;\n",
       "    }\n",
       "\n",
       "    .dataframe tbody tr th {\n",
       "        vertical-align: top;\n",
       "    }\n",
       "\n",
       "    .dataframe thead th {\n",
       "        text-align: right;\n",
       "    }\n",
       "</style>\n",
       "<table border=\"1\" class=\"dataframe\">\n",
       "  <thead>\n",
       "    <tr style=\"text-align: right;\">\n",
       "      <th></th>\n",
       "      <th>id</th>\n",
       "      <th>name</th>\n",
       "      <th>teamName</th>\n",
       "      <th>faceImageId</th>\n",
       "    </tr>\n",
       "  </thead>\n",
       "  <tbody>\n",
       "    <tr>\n",
       "      <th>0</th>\n",
       "      <td>25</td>\n",
       "      <td>Sachin Tendulkar</td>\n",
       "      <td>India</td>\n",
       "      <td>171004</td>\n",
       "    </tr>\n",
       "    <tr>\n",
       "      <th>1</th>\n",
       "      <td>26</td>\n",
       "      <td>Virender Sehwag</td>\n",
       "      <td>India</td>\n",
       "      <td>171002</td>\n",
       "    </tr>\n",
       "    <tr>\n",
       "      <th>2</th>\n",
       "      <td>27</td>\n",
       "      <td>Rahul Dravid</td>\n",
       "      <td>India</td>\n",
       "      <td>156286</td>\n",
       "    </tr>\n",
       "    <tr>\n",
       "      <th>3</th>\n",
       "      <td>28</td>\n",
       "      <td>VVS Laxman</td>\n",
       "      <td>India</td>\n",
       "      <td>156770</td>\n",
       "    </tr>\n",
       "    <tr>\n",
       "      <th>4</th>\n",
       "      <td>29</td>\n",
       "      <td>Sourav Ganguly</td>\n",
       "      <td>India</td>\n",
       "      <td>171006</td>\n",
       "    </tr>\n",
       "    <tr>\n",
       "      <th>...</th>\n",
       "      <td>...</td>\n",
       "      <td>...</td>\n",
       "      <td>...</td>\n",
       "      <td>...</td>\n",
       "    </tr>\n",
       "    <tr>\n",
       "      <th>18554</th>\n",
       "      <td>46639</td>\n",
       "      <td>Ribeiro Bento</td>\n",
       "      <td>Brazil</td>\n",
       "      <td>182026</td>\n",
       "    </tr>\n",
       "    <tr>\n",
       "      <th>18555</th>\n",
       "      <td>46643</td>\n",
       "      <td>Carolina Nascimento</td>\n",
       "      <td>Brazil</td>\n",
       "      <td>182026</td>\n",
       "    </tr>\n",
       "    <tr>\n",
       "      <th>18556</th>\n",
       "      <td>46650</td>\n",
       "      <td>Ana Sabino</td>\n",
       "      <td>Brazil</td>\n",
       "      <td>182026</td>\n",
       "    </tr>\n",
       "    <tr>\n",
       "      <th>18557</th>\n",
       "      <td>46657</td>\n",
       "      <td>Martina Quinn</td>\n",
       "      <td>Argentina</td>\n",
       "      <td>182026</td>\n",
       "    </tr>\n",
       "    <tr>\n",
       "      <th>18558</th>\n",
       "      <td>46664</td>\n",
       "      <td>Francesca Galan</td>\n",
       "      <td>Argentina</td>\n",
       "      <td>182026</td>\n",
       "    </tr>\n",
       "  </tbody>\n",
       "</table>\n",
       "<p>18559 rows × 4 columns</p>\n",
       "</div>"
      ],
      "text/plain": [
       "          id                 name   teamName faceImageId\n",
       "0         25     Sachin Tendulkar      India      171004\n",
       "1         26      Virender Sehwag      India      171002\n",
       "2         27         Rahul Dravid      India      156286\n",
       "3         28           VVS Laxman      India      156770\n",
       "4         29       Sourav Ganguly      India      171006\n",
       "...      ...                  ...        ...         ...\n",
       "18554  46639        Ribeiro Bento     Brazil      182026\n",
       "18555  46643  Carolina Nascimento     Brazil      182026\n",
       "18556  46650           Ana Sabino     Brazil      182026\n",
       "18557  46657        Martina Quinn  Argentina      182026\n",
       "18558  46664      Francesca Galan  Argentina      182026\n",
       "\n",
       "[18559 rows x 4 columns]"
      ]
     },
     "execution_count": 8,
     "metadata": {},
     "output_type": "execute_result"
    }
   ],
   "source": [
    "all_players_details = all_players_details.drop(['category'], axis=1)\n",
    "all_players_details"
   ]
  },
  {
   "cell_type": "code",
   "execution_count": null,
   "metadata": {},
   "outputs": [],
   "source": [
    "file_name ='all_players.xlsx'\n",
    "all_players_details.to_excel(file_name, index=False)"
   ]
  },
  {
   "cell_type": "code",
   "execution_count": null,
   "metadata": {},
   "outputs": [],
   "source": []
  }
 ],
 "metadata": {
  "kernelspec": {
   "display_name": "Python 3",
   "language": "python",
   "name": "python3"
  },
  "language_info": {
   "codemirror_mode": {
    "name": "ipython",
    "version": 3
   },
   "file_extension": ".py",
   "mimetype": "text/x-python",
   "name": "python",
   "nbconvert_exporter": "python",
   "pygments_lexer": "ipython3",
   "version": "3.8.10"
  },
  "orig_nbformat": 4
 },
 "nbformat": 4,
 "nbformat_minor": 2
}
